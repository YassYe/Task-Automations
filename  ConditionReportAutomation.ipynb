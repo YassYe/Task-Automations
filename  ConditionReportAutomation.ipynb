{
  "nbformat": 4,
  "nbformat_minor": 0,
  "metadata": {
    "colab": {
      "provenance": [],
      "mount_file_id": "1WKsFkQK28bP0TzEpMfYcXEAct3kEk2TS",
      "authorship_tag": "ABX9TyMdTbaF4CKT4/VIpfHaUE+d",
      "include_colab_link": true
    },
    "kernelspec": {
      "name": "python3",
      "display_name": "Python 3"
    },
    "language_info": {
      "name": "python"
    }
  },
  "cells": [
    {
      "cell_type": "markdown",
      "metadata": {
        "id": "view-in-github",
        "colab_type": "text"
      },
      "source": [
        "<a href=\"https://colab.research.google.com/github/YassYe/Task-Automations/blob/main/%20ConditionReportAutomation.ipynb\" target=\"_parent\"><img src=\"https://colab.research.google.com/assets/colab-badge.svg\" alt=\"Open In Colab\"/></a>"
      ]
    },
    {
      "cell_type": "code",
      "execution_count": 41,
      "metadata": {
        "colab": {
          "base_uri": "https://localhost:8080/"
        },
        "id": "S9NBdhC_YDZU",
        "outputId": "f3066a4d-50e9-4e47-9a82-d45ecbb4a52d"
      },
      "outputs": [
        {
          "output_type": "stream",
          "name": "stdout",
          "text": [
            "Looking in indexes: https://pypi.org/simple, https://us-python.pkg.dev/colab-wheels/public/simple/\n",
            "Requirement already satisfied: python-docx in /usr/local/lib/python3.8/dist-packages (0.8.11)\n",
            "Requirement already satisfied: lxml>=2.3.2 in /usr/local/lib/python3.8/dist-packages (from python-docx) (4.9.2)\n"
          ]
        }
      ],
      "source": [
        "!pip install python-docx"
      ]
    },
    {
      "cell_type": "code",
      "source": [
        "import docx\n",
        "import pandas as pd\n",
        "from docx.enum.style import WD_STYLE_TYPE \n",
        "from docx.shared import Pt\n"
      ],
      "metadata": {
        "id": "bMl4_L9zYFOJ"
      },
      "execution_count": 53,
      "outputs": []
    },
    {
      "cell_type": "code",
      "source": [
        "df = pd.read_excel(\"/content/Inspection boards.xlsx\",header=None, index_col=False)\n",
        "lines = df.iloc[55]\n",
        "print(lines[0], lines[1])\n",
        "df.shape\n",
        "\n"
      ],
      "metadata": {
        "colab": {
          "base_uri": "https://localhost:8080/"
        },
        "id": "CGTfBkkAcUpt",
        "outputId": "1de88241-15db-4a25-d7d3-094becefab8c"
      },
      "execution_count": 54,
      "outputs": [
        {
          "output_type": "stream",
          "name": "stdout",
          "text": [
            "SHPS52 7580/7582 Greyhound Track, Shepparton\n"
          ]
        },
        {
          "output_type": "execute_result",
          "data": {
            "text/plain": [
              "(57, 2)"
            ]
          },
          "metadata": {},
          "execution_count": 54
        }
      ]
    },
    {
      "cell_type": "code",
      "source": [
        "for j in range(df.shape[0] ): \n",
        "  cur_df = df.iloc[j]\n",
        "  addrs = cur_df[1]\n",
        "  tag = cur_df[0]\n",
        "  doc = docx.Document(\"/content/QA042 Site Inspection Form.docx\")\n",
        "  #setup font \n",
        "  obj_styles = doc.styles\n",
        "  obj_charstyle = obj_styles.add_style('CommentsStyle', WD_STYLE_TYPE.CHARACTER)\n",
        "  obj_font = obj_charstyle.font\n",
        "  obj_font.size = Pt(10)\n",
        "  obj_font.name = 'Times New Roman'\n",
        "\n",
        "  #change address\n",
        "  old_addrs = doc.tables[1].cell(0, 0).text\n",
        "  old_addrs = old_addrs.split(\":\")\n",
        "  doc.tables[1].cell(0,0).text = \"\"\n",
        "  para = doc.tables[1].cell(0,0).paragraphs[0]\n",
        "  para.add_run(old_addrs[0] + \": \",style = 'CommentsStyle').bold = True\n",
        "  para.add_run(addrs,style = 'CommentsStyle')\n",
        "  para.style \n",
        "  #change tag\n",
        "  old_tag = doc.tables[1].cell(1, 0).text\n",
        "  old_tag = old_tag.split(\":\")\n",
        "  doc.tables[1].cell(1,0).text = \"\"\n",
        "  para = doc.tables[1].cell(1,0).paragraphs[0]\n",
        "  para.add_run(old_tag[0] + \": \", style = 'CommentsStyle').bold = True\n",
        "  para.add_run(tag, style = 'CommentsStyle')\n",
        "  doc.save(\"/content/drive/MyDrive/GHD Projects/Elizabeth Folders/\" + tag + \" Site Inspection From.docx\")\n",
        "\n"
      ],
      "metadata": {
        "id": "xn4K4jBNLpbv"
      },
      "execution_count": 60,
      "outputs": []
    },
    {
      "cell_type": "code",
      "source": [],
      "metadata": {
        "id": "YvFGs-oFLq61"
      },
      "execution_count": null,
      "outputs": []
    }
  ]
}